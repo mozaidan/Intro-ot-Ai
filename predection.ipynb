{
 "cells": [
  {
   "cell_type": "code",
   "execution_count": null,
   "metadata": {},
   "outputs": [],
   "source": [
    "import pandas as pd\n",
    "import numpy as np\n",
    "from sklearn.model_selection import train_test_split\n",
    "from sklearn.linear_model import LinearRegression\n",
    "from sklearn.preprocessing import PolynomialFeatures\n",
    "from sklearn.preprocessing import StandardScaler\n",
    "from sklearn.metrics import r2_score\n",
    "import matplotlib.pyplot as plt\n",
    "from sklearn.metrics import mean_squared_error\n",
    "from matplotlib.dates import date2num\n",
    "from sklearn.metrics import mean_absolute_error"
   ]
  },
  {
   "cell_type": "markdown",
   "metadata": {},
   "source": [
    "We have a few unused import statmentes due a lot of training and tries to find the best soloution and algorithim "
   ]
  },
  {
   "cell_type": "code",
   "execution_count": null,
   "metadata": {},
   "outputs": [],
   "source": [
    "url = \"TSLA.csv\"\n",
    "data = pd.read_csv(url, sep=\",\")\n",
    "\n",
    "data.info()"
   ]
  },
  {
   "cell_type": "code",
   "execution_count": null,
   "metadata": {},
   "outputs": [],
   "source": [
    "#...\n",
    "data.head()"
   ]
  },
  {
   "cell_type": "code",
   "execution_count": null,
   "metadata": {},
   "outputs": [],
   "source": [
    "#Preprocess the data\n",
    "\n",
    "data['Date'] = pd.to_datetime(data['Date'])\n",
    "data.set_index('Date', inplace=True)\n",
    "\n"
   ]
  },
  {
   "cell_type": "code",
   "execution_count": null,
   "metadata": {},
   "outputs": [],
   "source": [
    "#Plot the data for analysis\n",
    "\n",
    "\n",
    "plt.figure(figsize=(10, 6))\n",
    "plt.plot(data.index, data['Close'], label='Stock Price')\n",
    "plt.title('Tesla Stock Price Over Time')\n",
    "plt.xlabel('Date')\n",
    "plt.ylabel('Close Price')\n",
    "plt.legend()\n",
    "plt.show()"
   ]
  },
  {
   "cell_type": "markdown",
   "metadata": {},
   "source": [
    "Plot the data with Polynomial Regression"
   ]
  },
  {
   "cell_type": "code",
   "execution_count": null,
   "metadata": {},
   "outputs": [],
   "source": [
    "data['NumericDate'] = data.index.to_julian_date()\n",
    "\n",
    "#We have tried to change the degree between 2-47, but it won't give any clearly differanses\n",
    "degree = 47  \n",
    "\n",
    "# Extract features and target variables and name it as x & y\n",
    "\n",
    "X = data['NumericDate'].values.reshape(-1, 1)\n",
    "y = data['Close'].values\n",
    "\n",
    "poly_features = PolynomialFeatures(degree=degree)\n",
    "X_poly = poly_features.fit_transform(X)\n",
    "\n",
    "# training the polynomial regression model using the input features X_poly  and the target variable y\n",
    "poly_regressor = LinearRegression()\n",
    "poly_regressor.fit(X_poly, y)\n",
    "\n",
    "# making predictions using the polynomial regression model \n",
    "Y_pred_poly = poly_regressor.predict(X_poly)\n",
    "\n",
    "# Plot the polynomial regression results\n",
    "plt.scatter(data.index, data['Close'], label='Actual Stock Price')\n",
    "plt.plot(data.index, Y_pred_poly, color='red', label=f'Polynomial Regression (Degree {degree})')\n",
    "\n",
    "plt.title('Tesla Stock Price Over Time - Polynomial Regression')\n",
    "plt.xlabel('Date')\n",
    "plt.ylabel('Close Price')\n",
    "plt.legend()\n",
    "plt.show()"
   ]
  },
  {
   "cell_type": "code",
   "execution_count": null,
   "metadata": {},
   "outputs": [],
   "source": [
    "#This code is the same of the last one, just a try to change the degree ---> No changes.\n",
    "\n",
    "\n",
    "data['NumericDate'] = data.index.to_julian_date()\n",
    "\n",
    "degree = 2  \n",
    "\n",
    "X = data['NumericDate'].values.reshape(-1, 1)\n",
    "y = data['Close'].values\n",
    "\n",
    "poly_features = PolynomialFeatures(degree=degree)\n",
    "X_poly = poly_features.fit_transform(X)\n",
    "\n",
    "poly_regressor = LinearRegression()\n",
    "poly_regressor.fit(X_poly, y)\n",
    "\n",
    "Y_pred_poly = poly_regressor.predict(X_poly)\n",
    "\n",
    "plt.scatter(data.index, data['Close'], label='Actual Stock Price')\n",
    "plt.plot(data.index, Y_pred_poly, color='red', label=f'Polynomial Regression (Degree {degree})')\n",
    "plt.title('Tesla Stock Price Over Time - Polynomial Regression')\n",
    "plt.xlabel('Date')\n",
    "plt.ylabel('Close Price')\n",
    "plt.legend()\n",
    "plt.show()"
   ]
  },
  {
   "cell_type": "markdown",
   "metadata": {},
   "source": [
    "# Training section"
   ]
  },
  {
   "cell_type": "code",
   "execution_count": null,
   "metadata": {},
   "outputs": [],
   "source": [
    "# define features and target variable\n",
    "\n",
    "features = ['Year', 'Month', 'Day']\n",
    "target = 'Close'\n",
    "\n",
    "#creates additional features 'Year', 'Month', 'Day' from the date details\n",
    "\n",
    "data['Year'] = data.index.year\n",
    "data['Month'] = data.index.month\n",
    "data['Day'] = data.index.day"
   ]
  },
  {
   "cell_type": "code",
   "execution_count": null,
   "metadata": {},
   "outputs": [],
   "source": [
    "\n",
    "train_size = int(len(data) * 0.8)\n",
    "train, test = data.iloc[:train_size], data.iloc[train_size:]\n"
   ]
  },
  {
   "cell_type": "code",
   "execution_count": null,
   "metadata": {},
   "outputs": [],
   "source": [
    "X_train, y_train = train[features], train[target]\n",
    "X_test, y_test = test[features], test[target]"
   ]
  },
  {
   "cell_type": "code",
   "execution_count": null,
   "metadata": {},
   "outputs": [],
   "source": [
    "model = LinearRegression()\n",
    "model.fit(X_train, y_train)\n",
    "mean_close_price = data['Close'].mean()\n"
   ]
  },
  {
   "cell_type": "code",
   "execution_count": null,
   "metadata": {},
   "outputs": [],
   "source": [
    "\n",
    "# Scatter plot of actual close prices with dates\n",
    "plt.figure(figsize=(12, 6))\n",
    "# Plot a red line for the mean close price\n",
    "\n",
    "plt.scatter(data.index, data['Close'], label='Actual Close Price', alpha=0.7)\n",
    "plt.title('Actual Stock Prices Over Time with Mean Close Price Line')\n",
    "plt.xlabel('Date')\n",
    "plt.ylabel('Close Price')\n",
    "plt.legend()\n",
    "plt.show()"
   ]
  },
  {
   "cell_type": "markdown",
   "metadata": {},
   "source": [
    "# Evaluation Section"
   ]
  },
  {
   "cell_type": "code",
   "execution_count": null,
   "metadata": {},
   "outputs": [],
   "source": [
    "prediction_date = input(\"Enter the date you want to find the prediction for as (YYYY-MM-DD): \")\n",
    "prediction_date = pd.to_datetime(prediction_date)"
   ]
  },
  {
   "cell_type": "code",
   "execution_count": null,
   "metadata": {},
   "outputs": [],
   "source": [
    "input_data = {\n",
    "    'Year': [prediction_date.year],\n",
    "    'Month': [prediction_date.month],\n",
    "    'Day': [prediction_date.day]\n",
    "}"
   ]
  },
  {
   "cell_type": "code",
   "execution_count": null,
   "metadata": {},
   "outputs": [],
   "source": [
    "predicted_price = model.predict(pd.DataFrame(input_data))\n",
    "y_pred = model.predict(X_test)"
   ]
  },
  {
   "cell_type": "code",
   "execution_count": null,
   "metadata": {},
   "outputs": [],
   "source": [
    "# creating a plot to visualize the actual stock prices (Actual Stock Price) over time \n",
    "plt.figure(figsize=(10, 6))\n",
    "plt.plot(data.index, data['Close'], label='Actual Stock Price')\n",
    "plt.scatter(X_test.index, y_test, label='Test Data')\n",
    "plt.title('Tesla Stock Price Over Time with Predictions')\n",
    "plt.xlabel('Date')\n",
    "plt.ylabel('Close Price')\n",
    "plt.legend()\n",
    "plt.show()\n"
   ]
  },
  {
   "cell_type": "code",
   "execution_count": null,
   "metadata": {},
   "outputs": [],
   "source": [
    "#Importing the actuall price to see the differanse\n",
    "actual_price = data.loc[prediction_date, 'Close']\n"
   ]
  },
  {
   "cell_type": "code",
   "execution_count": null,
   "metadata": {},
   "outputs": [],
   "source": [
    "#  calculating the Mean Absolute Error between the actual and predicted  values\n",
    "mae = mean_absolute_error(y_test, y_pred)\n",
    "prediction_percentage_score = 100 - (mae / y_test.mean()) * 100"
   ]
  },
  {
   "cell_type": "code",
   "execution_count": null,
   "metadata": {},
   "outputs": [],
   "source": [
    "# Print the results\n",
    "print(f\"Actual Close Price for {prediction_date.date()}: {actual_price:.2f}\")\n",
    "print(f\"Predicted Close Price for {prediction_date.date()}: {predicted_price[0]:.2f}\")\n",
    "print(f\"Prediction Accuracy: {prediction_percentage_score:.2f}%\")"
   ]
  }
 ],
 "metadata": {
  "kernelspec": {
   "display_name": "dave3625",
   "language": "python",
   "name": "python3"
  },
  "language_info": {
   "codemirror_mode": {
    "name": "ipython",
    "version": 3
   },
   "file_extension": ".py",
   "mimetype": "text/x-python",
   "name": "python",
   "nbconvert_exporter": "python",
   "pygments_lexer": "ipython3",
   "version": "3.8.18"
  }
 },
 "nbformat": 4,
 "nbformat_minor": 2
}
